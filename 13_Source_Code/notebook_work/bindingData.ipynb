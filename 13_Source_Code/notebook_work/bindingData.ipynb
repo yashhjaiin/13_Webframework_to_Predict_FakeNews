{
 "cells": [
  {
   "cell_type": "code",
   "execution_count": 1,
   "id": "e3fb46ca",
   "metadata": {},
   "outputs": [],
   "source": [
    "import numpy as np\n",
    "import pandas as pd\n",
    "\n",
    "x = pd.read_csv('dataframes/fake.csv')\n",
    "y = pd.read_csv('dataframes/true.csv')\n",
    "\n",
    "x['label'] = 0\n",
    "y['label'] = 1\n",
    "    \n",
    "x.drop(['subject','date'], axis=1, inplace=True)\n",
    "y.drop(['subject', 'date'], axis=1, inplace=True)"
   ]
  },
  {
   "cell_type": "code",
   "execution_count": 2,
   "id": "3deffefe",
   "metadata": {},
   "outputs": [],
   "source": [
    "x.replace(' ', np.nan, inplace=True)\n",
    "y.replace(' ', np.nan, inplace=True)\n",
    "\n",
    "x.dropna(inplace = True)\n",
    "y.dropna(inplace = True)"
   ]
  },
  {
   "cell_type": "code",
   "execution_count": 3,
   "id": "4871e76c",
   "metadata": {},
   "outputs": [],
   "source": [
    "data = pd.concat([x,y])\n",
    "data = data.sample(frac=1)\n",
    "\n",
    "data.reset_index(drop=True, inplace=True)"
   ]
  },
  {
   "cell_type": "code",
   "execution_count": 4,
   "id": "d82a7370",
   "metadata": {},
   "outputs": [],
   "source": [
    "data.to_csv('dataframe.csv', index=False)"
   ]
  }
 ],
 "metadata": {
  "kernelspec": {
   "display_name": "Python 3 (ipykernel)",
   "language": "python",
   "name": "python3"
  },
  "language_info": {
   "codemirror_mode": {
    "name": "ipython",
    "version": 3
   },
   "file_extension": ".py",
   "mimetype": "text/x-python",
   "name": "python",
   "nbconvert_exporter": "python",
   "pygments_lexer": "ipython3",
   "version": "3.10.2"
  }
 },
 "nbformat": 4,
 "nbformat_minor": 5
}
